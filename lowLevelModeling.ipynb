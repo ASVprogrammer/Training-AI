{
 "cells": [
  {
   "cell_type": "code",
   "execution_count": 2,
   "metadata": {
    "collapsed": true,
    "ExecuteTime": {
     "end_time": "2024-05-24T13:37:03.746302100Z",
     "start_time": "2024-05-24T13:37:00.202471700Z"
    }
   },
   "outputs": [],
   "source": [
    "import tensorflow as tf\n",
    "from tensorflow import keras\n",
    "from sklearn.datasets import fetch_california_housing\n",
    "from sklearn.model_selection import train_test_split\n",
    "from sklearn.preprocessing import StandardScaler"
   ]
  },
  {
   "cell_type": "code",
   "execution_count": 3,
   "outputs": [
    {
     "data": {
      "text/plain": "{'data': array([[   8.3252    ,   41.        ,    6.98412698, ...,    2.55555556,\n           37.88      , -122.23      ],\n        [   8.3014    ,   21.        ,    6.23813708, ...,    2.10984183,\n           37.86      , -122.22      ],\n        [   7.2574    ,   52.        ,    8.28813559, ...,    2.80225989,\n           37.85      , -122.24      ],\n        ...,\n        [   1.7       ,   17.        ,    5.20554273, ...,    2.3256351 ,\n           39.43      , -121.22      ],\n        [   1.8672    ,   18.        ,    5.32951289, ...,    2.12320917,\n           39.43      , -121.32      ],\n        [   2.3886    ,   16.        ,    5.25471698, ...,    2.61698113,\n           39.37      , -121.24      ]]),\n 'target': array([4.526, 3.585, 3.521, ..., 0.923, 0.847, 0.894]),\n 'frame': None,\n 'target_names': ['MedHouseVal'],\n 'feature_names': ['MedInc',\n  'HouseAge',\n  'AveRooms',\n  'AveBedrms',\n  'Population',\n  'AveOccup',\n  'Latitude',\n  'Longitude'],\n 'DESCR': '.. _california_housing_dataset:\\n\\nCalifornia Housing dataset\\n--------------------------\\n\\n**Data Set Characteristics:**\\n\\n:Number of Instances: 20640\\n\\n:Number of Attributes: 8 numeric, predictive attributes and the target\\n\\n:Attribute Information:\\n    - MedInc        median income in block group\\n    - HouseAge      median house age in block group\\n    - AveRooms      average number of rooms per household\\n    - AveBedrms     average number of bedrooms per household\\n    - Population    block group population\\n    - AveOccup      average number of household members\\n    - Latitude      block group latitude\\n    - Longitude     block group longitude\\n\\n:Missing Attribute Values: None\\n\\nThis dataset was obtained from the StatLib repository.\\nhttps://www.dcc.fc.up.pt/~ltorgo/Regression/cal_housing.html\\n\\nThe target variable is the median house value for California districts,\\nexpressed in hundreds of thousands of dollars ($100,000).\\n\\nThis dataset was derived from the 1990 U.S. census, using one row per census\\nblock group. A block group is the smallest geographical unit for which the U.S.\\nCensus Bureau publishes sample data (a block group typically has a population\\nof 600 to 3,000 people).\\n\\nA household is a group of people residing within a home. Since the average\\nnumber of rooms and bedrooms in this dataset are provided per household, these\\ncolumns may take surprisingly large values for block groups with few households\\nand many empty houses, such as vacation resorts.\\n\\nIt can be downloaded/loaded using the\\n:func:`sklearn.datasets.fetch_california_housing` function.\\n\\n.. topic:: References\\n\\n    - Pace, R. Kelley and Ronald Barry, Sparse Spatial Autoregressions,\\n      Statistics and Probability Letters, 33 (1997) 291-297\\n'}"
     },
     "execution_count": 3,
     "metadata": {},
     "output_type": "execute_result"
    }
   ],
   "source": [
    "california_housing = fetch_california_housing()\n",
    "california_housing"
   ],
   "metadata": {
    "collapsed": false,
    "ExecuteTime": {
     "end_time": "2024-05-24T13:37:03.885437400Z",
     "start_time": "2024-05-24T13:37:03.867436400Z"
    }
   }
  },
  {
   "cell_type": "markdown",
   "source": [
    "Custom Models"
   ],
   "metadata": {
    "collapsed": false
   }
  },
  {
   "cell_type": "code",
   "execution_count": 4,
   "outputs": [],
   "source": [
    "X_train0, X_test, y_train0, y_test = train_test_split(\n",
    "                 california_housing[\"data\"],\n",
    "                 california_housing[\"target\"])"
   ],
   "metadata": {
    "collapsed": false,
    "ExecuteTime": {
     "end_time": "2024-05-24T13:37:35.297301100Z",
     "start_time": "2024-05-24T13:37:35.291302200Z"
    }
   }
  },
  {
   "cell_type": "code",
   "execution_count": 5,
   "outputs": [],
   "source": [
    "sc = StandardScaler()\n",
    "X_train_s = sc.fit_transform(X_train0)\n",
    "X_test_s = sc.transform(X_test)"
   ],
   "metadata": {
    "collapsed": false,
    "ExecuteTime": {
     "end_time": "2024-05-24T13:37:39.633878Z",
     "start_time": "2024-05-24T13:37:39.618416500Z"
    }
   }
  },
  {
   "cell_type": "code",
   "execution_count": 6,
   "outputs": [],
   "source": [
    "model = keras.models.Sequential([\n",
    "    keras.layers.Dense(50, activation=\"relu\"),\n",
    "    keras.layers.Dense(10, activation=\"relu\"),\n",
    "    keras.layers.Dense(1)\n",
    "])"
   ],
   "metadata": {
    "collapsed": false,
    "ExecuteTime": {
     "end_time": "2024-05-24T13:37:45.971351500Z",
     "start_time": "2024-05-24T13:37:45.952296500Z"
    }
   }
  },
  {
   "cell_type": "code",
   "execution_count": 7,
   "outputs": [],
   "source": [
    "model.compile(loss=\"mean_squared_error\",\n",
    "              optimizer=\"sgd\",\n",
    "              metrics=[\"mean_absolute_error\"])"
   ],
   "metadata": {
    "collapsed": false,
    "ExecuteTime": {
     "end_time": "2024-05-24T13:37:56.177317800Z",
     "start_time": "2024-05-24T13:37:56.143336100Z"
    }
   }
  },
  {
   "cell_type": "markdown",
   "source": [
    "Loss"
   ],
   "metadata": {
    "collapsed": false
   }
  },
  {
   "cell_type": "code",
   "execution_count": 8,
   "outputs": [],
   "source": [
    "def my_loss(y_true, y_pred):\n",
    "  error = tf.abs(y_true - y_pred)\n",
    "  return tf.experimental.numpy.select([error < 0.1, error < 1, error >= 1],\n",
    "                                      [error, error*2, error**2])"
   ],
   "metadata": {
    "collapsed": false,
    "ExecuteTime": {
     "end_time": "2024-05-24T13:38:16.403804Z",
     "start_time": "2024-05-24T13:38:16.395291800Z"
    }
   }
  },
  {
   "cell_type": "code",
   "execution_count": 9,
   "outputs": [],
   "source": [
    "class My_loss(keras.losses.Loss):\n",
    "  def __init__(self, t1, t2, **kwargs):\n",
    "    self.t1 = t1\n",
    "    self.t2 = t2\n",
    "    super().__init__(**kwargs)\n",
    "  def call(self, y_true, y_pred):\n",
    "    error = tf.abs(y_true - y_pred)\n",
    "    return tf.experimental.numpy.select([error < self.t1,\n",
    "                                         error < self.t2,\n",
    "                                         error >= self.t2],\n",
    "                                        [error, error*2, error**2])\n",
    "  def get_config(self):\n",
    "    parent_config = super().get_config()\n",
    "    return {**parent_config, \"t1\":self.t1, \"t2\":self.t2}"
   ],
   "metadata": {
    "collapsed": false,
    "ExecuteTime": {
     "end_time": "2024-05-24T13:38:21.779834800Z",
     "start_time": "2024-05-24T13:38:21.770826200Z"
    }
   }
  },
  {
   "cell_type": "code",
   "execution_count": 10,
   "outputs": [],
   "source": [
    "def my_loss2(t1, t2):\n",
    "  def my_loss(y_true, y_pred):\n",
    "    error = tf.abs(y_true - y_pred)\n",
    "    return tf.experimental.numpy.select([error < t1, error < t2, error >= t2],\n",
    "                                        [error, error*2, error**2])\n",
    "  return my_loss\n",
    "my_loss_2 = my_loss2(0.1, 1)"
   ],
   "metadata": {
    "collapsed": false,
    "ExecuteTime": {
     "end_time": "2024-05-24T13:38:27.714015300Z",
     "start_time": "2024-05-24T13:38:27.704985400Z"
    }
   }
  },
  {
   "cell_type": "code",
   "execution_count": 11,
   "outputs": [],
   "source": [
    "model.compile(loss=My_loss(0.1, 1),\n",
    "              optimizer=\"sgd\",\n",
    "              metrics=[\"mean_absolute_error\"])"
   ],
   "metadata": {
    "collapsed": false,
    "ExecuteTime": {
     "end_time": "2024-05-24T13:38:33.186880700Z",
     "start_time": "2024-05-24T13:38:33.174802700Z"
    }
   }
  },
  {
   "cell_type": "code",
   "execution_count": 12,
   "outputs": [
    {
     "name": "stdout",
     "output_type": "stream",
     "text": [
      "Epoch 1/5\n",
      "\u001B[1m412/412\u001B[0m \u001B[32m━━━━━━━━━━━━━━━━━━━━\u001B[0m\u001B[37m\u001B[0m \u001B[1m1s\u001B[0m 1ms/step - loss: 2.3428 - mean_absolute_error: 0.9664 - val_loss: 1.7442 - val_mean_absolute_error: 0.8666\n",
      "Epoch 2/5\n",
      "\u001B[1m412/412\u001B[0m \u001B[32m━━━━━━━━━━━━━━━━━━━━\u001B[0m\u001B[37m\u001B[0m \u001B[1m0s\u001B[0m 846us/step - loss: 2.1657 - mean_absolute_error: 0.8926 - val_loss: 1.7332 - val_mean_absolute_error: 0.8910\n",
      "Epoch 3/5\n",
      "\u001B[1m412/412\u001B[0m \u001B[32m━━━━━━━━━━━━━━━━━━━━\u001B[0m\u001B[37m\u001B[0m \u001B[1m0s\u001B[0m 748us/step - loss: 1.7701 - mean_absolute_error: 0.8900 - val_loss: 1.7381 - val_mean_absolute_error: 0.8614\n",
      "Epoch 4/5\n",
      "\u001B[1m412/412\u001B[0m \u001B[32m━━━━━━━━━━━━━━━━━━━━\u001B[0m\u001B[37m\u001B[0m \u001B[1m0s\u001B[0m 759us/step - loss: 1.7375 - mean_absolute_error: 0.8732 - val_loss: 1.7254 - val_mean_absolute_error: 0.8689\n",
      "Epoch 5/5\n",
      "\u001B[1m412/412\u001B[0m \u001B[32m━━━━━━━━━━━━━━━━━━━━\u001B[0m\u001B[37m\u001B[0m \u001B[1m0s\u001B[0m 790us/step - loss: 1.7146 - mean_absolute_error: 0.8651 - val_loss: 1.7234 - val_mean_absolute_error: 0.8675\n"
     ]
    },
    {
     "data": {
      "text/plain": "<keras.src.callbacks.history.History at 0x26263f32a10>"
     },
     "execution_count": 12,
     "metadata": {},
     "output_type": "execute_result"
    }
   ],
   "source": [
    "model.fit(X_train_s, y_train0, epochs=5, validation_split=0.15)"
   ],
   "metadata": {
    "collapsed": false,
    "ExecuteTime": {
     "end_time": "2024-05-24T13:38:43.815213400Z",
     "start_time": "2024-05-24T13:38:41.337153100Z"
    }
   }
  },
  {
   "cell_type": "code",
   "execution_count": 13,
   "outputs": [
    {
     "name": "stderr",
     "output_type": "stream",
     "text": [
      "WARNING:absl:You are saving your model as an HDF5 file via `model.save()` or `keras.saving.save_model(model)`. This file format is considered legacy. We recommend using instead the native Keras format, e.g. `model.save('my_model.keras')` or `keras.saving.save_model(model, 'my_model.keras')`. \n"
     ]
    }
   ],
   "source": [
    "model.save(\"reg_model_My_loss.h5\")"
   ],
   "metadata": {
    "collapsed": false,
    "ExecuteTime": {
     "end_time": "2024-05-24T13:39:08.669516800Z",
     "start_time": "2024-05-24T13:39:08.618603200Z"
    }
   }
  },
  {
   "cell_type": "code",
   "execution_count": 14,
   "outputs": [
    {
     "name": "stderr",
     "output_type": "stream",
     "text": [
      "WARNING:absl:Compiled the loaded model, but the compiled metrics have yet to be built. `model.compile_metrics` will be empty until you train or evaluate the model.\n"
     ]
    }
   ],
   "source": [
    "model_Myloss = keras.models.load_model(\"reg_model_My_loss.h5\",\n",
    "                        custom_objects={\"My_loss\":My_loss})"
   ],
   "metadata": {
    "collapsed": false,
    "ExecuteTime": {
     "end_time": "2024-05-24T13:39:20.664629900Z",
     "start_time": "2024-05-24T13:39:20.616288500Z"
    }
   }
  },
  {
   "cell_type": "code",
   "execution_count": 15,
   "outputs": [
    {
     "name": "stdout",
     "output_type": "stream",
     "text": [
      "\u001B[1m162/162\u001B[0m \u001B[32m━━━━━━━━━━━━━━━━━━━━\u001B[0m\u001B[37m\u001B[0m \u001B[1m0s\u001B[0m 701us/step\n"
     ]
    },
    {
     "data": {
      "text/plain": "array([[2.041447 ],\n       [2.1418123],\n       [2.060617 ],\n       ...,\n       [2.1255763],\n       [2.0051327],\n       [1.9809444]], dtype=float32)"
     },
     "execution_count": 15,
     "metadata": {},
     "output_type": "execute_result"
    }
   ],
   "source": [
    "model_Myloss.predict(X_test_s)"
   ],
   "metadata": {
    "collapsed": false,
    "ExecuteTime": {
     "end_time": "2024-05-24T13:39:43.145614300Z",
     "start_time": "2024-05-24T13:39:42.902500Z"
    }
   }
  },
  {
   "cell_type": "markdown",
   "source": [
    "Regularizers"
   ],
   "metadata": {
    "collapsed": false
   }
  },
  {
   "cell_type": "code",
   "execution_count": 16,
   "outputs": [],
   "source": [
    "def my_regu(x):\n",
    "  tf.math.reduce_sum(tf.math.square(x))"
   ],
   "metadata": {
    "collapsed": false,
    "ExecuteTime": {
     "end_time": "2024-05-24T13:40:48.906421600Z",
     "start_time": "2024-05-24T13:40:48.884837200Z"
    }
   }
  },
  {
   "cell_type": "markdown",
   "source": [
    "Metrics"
   ],
   "metadata": {
    "collapsed": false
   }
  },
  {
   "cell_type": "code",
   "execution_count": 17,
   "outputs": [],
   "source": [
    "def r2(y_true, y_pred):\n",
    "  ss_res = tf.reduce_sum((y_true - y_pred)**2)\n",
    "  ss_tot = tf.reduce_sum((y_true - tf.reduce_mean(y_true))**2)\n",
    "  r2 = 1 - ss_res/(ss_tot+1e-6)\n",
    "  return r2"
   ],
   "metadata": {
    "collapsed": false,
    "ExecuteTime": {
     "end_time": "2024-05-24T13:41:05.405901100Z",
     "start_time": "2024-05-24T13:41:05.400014900Z"
    }
   }
  },
  {
   "cell_type": "code",
   "execution_count": 18,
   "outputs": [],
   "source": [
    "model.compile(loss=My_loss(0.1, 1),\n",
    "              optimizer=\"sgd\",\n",
    "              metrics=[r2])"
   ],
   "metadata": {
    "collapsed": false,
    "ExecuteTime": {
     "end_time": "2024-05-24T13:41:11.087495700Z",
     "start_time": "2024-05-24T13:41:11.080741Z"
    }
   }
  },
  {
   "cell_type": "code",
   "execution_count": 19,
   "outputs": [
    {
     "name": "stdout",
     "output_type": "stream",
     "text": [
      "Epoch 1/5\n",
      "\u001B[1m412/412\u001B[0m \u001B[32m━━━━━━━━━━━━━━━━━━━━\u001B[0m\u001B[37m\u001B[0m \u001B[1m1s\u001B[0m 1ms/step - loss: 1.7410 - r2: -32.4335 - val_loss: 1.7575 - val_r2: -32.3800\n",
      "Epoch 2/5\n",
      "\u001B[1m412/412\u001B[0m \u001B[32m━━━━━━━━━━━━━━━━━━━━\u001B[0m\u001B[37m\u001B[0m \u001B[1m0s\u001B[0m 1ms/step - loss: 1.7483 - r2: -32.1552 - val_loss: 1.7242 - val_r2: -32.1455\n",
      "Epoch 3/5\n",
      "\u001B[1m412/412\u001B[0m \u001B[32m━━━━━━━━━━━━━━━━━━━━\u001B[0m\u001B[37m\u001B[0m \u001B[1m0s\u001B[0m 760us/step - loss: 1.7601 - r2: -32.2923 - val_loss: 1.7594 - val_r2: -32.3822\n",
      "Epoch 4/5\n",
      "\u001B[1m412/412\u001B[0m \u001B[32m━━━━━━━━━━━━━━━━━━━━\u001B[0m\u001B[37m\u001B[0m \u001B[1m0s\u001B[0m 823us/step - loss: 1.7666 - r2: -32.3869 - val_loss: 1.7333 - val_r2: -32.1196\n",
      "Epoch 5/5\n",
      "\u001B[1m412/412\u001B[0m \u001B[32m━━━━━━━━━━━━━━━━━━━━\u001B[0m\u001B[37m\u001B[0m \u001B[1m0s\u001B[0m 1ms/step - loss: 1.7611 - r2: -32.3154 - val_loss: 1.7385 - val_r2: -33.8864\n"
     ]
    },
    {
     "data": {
      "text/plain": "<keras.src.callbacks.history.History at 0x26266b338b0>"
     },
     "execution_count": 19,
     "metadata": {},
     "output_type": "execute_result"
    }
   ],
   "source": [
    "model.fit(X_train_s, y_train0, epochs=5, validation_split=0.15)"
   ],
   "metadata": {
    "collapsed": false,
    "ExecuteTime": {
     "end_time": "2024-05-24T13:41:21.386215100Z",
     "start_time": "2024-05-24T13:41:18.870401800Z"
    }
   }
  },
  {
   "cell_type": "markdown",
   "source": [
    "Layer"
   ],
   "metadata": {
    "collapsed": false
   }
  },
  {
   "cell_type": "code",
   "execution_count": 20,
   "outputs": [
    {
     "data": {
      "text/plain": "<tf.Tensor: shape=(2, 4), dtype=float32, numpy=\narray([[ 0.10898118,  0.01374244, -0.02031757,  0.07309394],\n       [ 0.10898118,  0.01374244, -0.02031757,  0.07309394]],\n      dtype=float32)>"
     },
     "execution_count": 20,
     "metadata": {},
     "output_type": "execute_result"
    }
   ],
   "source": [
    "class SimpleDense(keras.layers.Layer):\n",
    "\n",
    "  def __init__(self, units=32):\n",
    "      super(SimpleDense, self).__init__()\n",
    "      self.units = units\n",
    "\n",
    "  def build(self, input_shape):  # Create the state of the layer (weights)\n",
    "    w_init = tf.random_normal_initializer()\n",
    "    self.w = tf.Variable(\n",
    "        initial_value=w_init(shape=(input_shape[-1], self.units),\n",
    "                             dtype='float32'),\n",
    "        trainable=True)\n",
    "    b_init = tf.zeros_initializer()\n",
    "    self.b = tf.Variable(\n",
    "        initial_value=b_init(shape=(self.units,), dtype='float32'),\n",
    "        trainable=True)\n",
    "\n",
    "  def call(self, inputs):  # Defines the computation from inputs to outputs\n",
    "      return tf.matmul(inputs, self.w) + self.b\n",
    "\n",
    "# Instantiates the layer.\n",
    "linear_layer = SimpleDense(4)\n",
    "\n",
    "# This will also call `build(input_shape)` and create the weights.\n",
    "y = linear_layer(tf.ones((2, 2)))\n",
    "y"
   ],
   "metadata": {
    "collapsed": false,
    "ExecuteTime": {
     "end_time": "2024-05-24T13:41:38.250223Z",
     "start_time": "2024-05-24T13:41:38.223368800Z"
    }
   }
  },
  {
   "cell_type": "code",
   "execution_count": 21,
   "outputs": [],
   "source": [
    "class MyLinear(keras.layers.Layer):\n",
    "\n",
    "  def __init__(self, units=32):\n",
    "      super(MyLinear, self).__init__()\n",
    "      self.units = units\n",
    "\n",
    "  def build(self, input_shape):  # Create the state of the layer (weights)\n",
    "    self.w = self.add_weight(shape=(input_shape[-1], self.units),\n",
    "                             initializer=\"random_normal\",\n",
    "                             trainable=True)\n",
    "    self.b = self.add_weight(shape=(self.units,),\n",
    "                             initializer=\"random_normal\",\n",
    "                             trainable=True)\n",
    "\n",
    "  def call(self, inputs):  # Defines the computation from inputs to outputs\n",
    "      return tf.matmul(inputs, self.w) + self.b"
   ],
   "metadata": {
    "collapsed": false,
    "ExecuteTime": {
     "end_time": "2024-05-24T13:41:53.726954700Z",
     "start_time": "2024-05-24T13:41:53.708957100Z"
    }
   }
  },
  {
   "cell_type": "code",
   "execution_count": 22,
   "outputs": [],
   "source": [
    "class MyBlock(keras.layers.Layer):\n",
    "  def __init__(self):\n",
    "    super(MyBlock, self).__init__()\n",
    "    self.lin1 = MyLinear(50)\n",
    "    self.lin2 = MyLinear(100)\n",
    "    self.lin3 = MyLinear(100)\n",
    "    self.lin4 = MyLinear(100)\n",
    "\n",
    "  def call(self, inputs):\n",
    "    X = self.lin1(inputs)\n",
    "    X = tf.nn.relu(X)\n",
    "    X = self.lin2(X)\n",
    "    X = tf.nn.relu(X)\n",
    "    X = self.lin3(X)\n",
    "    X = tf.nn.relu(X)\n",
    "    X = self.lin4(X)\n",
    "    loss_ = tf.reduce_mean(X)/2\n",
    "    self.add_loss(loss_)\n",
    "    return X"
   ],
   "metadata": {
    "collapsed": false,
    "ExecuteTime": {
     "end_time": "2024-05-24T13:42:02.942141100Z",
     "start_time": "2024-05-24T13:42:02.938186200Z"
    }
   }
  },
  {
   "cell_type": "code",
   "execution_count": 23,
   "outputs": [],
   "source": [
    "model = keras.models.Sequential([\n",
    "      MyBlock(),\n",
    "      MyBlock(),\n",
    "      keras.layers.Dense(1)\n",
    "])"
   ],
   "metadata": {
    "collapsed": false,
    "ExecuteTime": {
     "end_time": "2024-05-24T13:42:09.170749Z",
     "start_time": "2024-05-24T13:42:09.139660900Z"
    }
   }
  },
  {
   "cell_type": "code",
   "execution_count": 24,
   "outputs": [],
   "source": [
    "model.compile(loss=\"mean_absolute_error\",\n",
    "              optimizer=\"sgd\",\n",
    "              metrics=[\"mean_absolute_error\"])"
   ],
   "metadata": {
    "collapsed": false,
    "ExecuteTime": {
     "end_time": "2024-05-24T13:42:14.504515200Z",
     "start_time": "2024-05-24T13:42:14.492417400Z"
    }
   }
  },
  {
   "cell_type": "code",
   "execution_count": 25,
   "outputs": [
    {
     "name": "stdout",
     "output_type": "stream",
     "text": [
      "Epoch 1/5\n",
      "WARNING:tensorflow:From D:\\Learning\\Python\\Tasks\\venv\\lib\\site-packages\\keras\\src\\backend\\tensorflow\\core.py:184: The name tf.placeholder is deprecated. Please use tf.compat.v1.placeholder instead.\n",
      "\n"
     ]
    },
    {
     "name": "stderr",
     "output_type": "stream",
     "text": [
      "WARNING:tensorflow:From D:\\Learning\\Python\\Tasks\\venv\\lib\\site-packages\\keras\\src\\backend\\tensorflow\\core.py:184: The name tf.placeholder is deprecated. Please use tf.compat.v1.placeholder instead.\n",
      "\n"
     ]
    },
    {
     "name": "stdout",
     "output_type": "stream",
     "text": [
      "\u001B[1m412/412\u001B[0m \u001B[32m━━━━━━━━━━━━━━━━━━━━\u001B[0m\u001B[37m\u001B[0m \u001B[1m2s\u001B[0m 1ms/step - loss: 1.0085 - mean_absolute_error: 1.0184 - val_loss: 0.8351 - val_mean_absolute_error: 0.8670\n",
      "Epoch 2/5\n",
      "\u001B[1m412/412\u001B[0m \u001B[32m━━━━━━━━━━━━━━━━━━━━\u001B[0m\u001B[37m\u001B[0m \u001B[1m0s\u001B[0m 1ms/step - loss: 0.8512 - mean_absolute_error: 0.8907 - val_loss: 0.8034 - val_mean_absolute_error: 0.8667\n",
      "Epoch 3/5\n",
      "\u001B[1m412/412\u001B[0m \u001B[32m━━━━━━━━━━━━━━━━━━━━\u001B[0m\u001B[37m\u001B[0m \u001B[1m0s\u001B[0m 1ms/step - loss: 0.8031 - mean_absolute_error: 0.8750 - val_loss: 0.7656 - val_mean_absolute_error: 0.8658\n",
      "Epoch 4/5\n",
      "\u001B[1m412/412\u001B[0m \u001B[32m━━━━━━━━━━━━━━━━━━━━\u001B[0m\u001B[37m\u001B[0m \u001B[1m1s\u001B[0m 2ms/step - loss: 0.7841 - mean_absolute_error: 0.8955 - val_loss: 0.7183 - val_mean_absolute_error: 0.8669\n",
      "Epoch 5/5\n",
      "\u001B[1m412/412\u001B[0m \u001B[32m━━━━━━━━━━━━━━━━━━━━\u001B[0m\u001B[37m\u001B[0m \u001B[1m0s\u001B[0m 1ms/step - loss: 0.7229 - mean_absolute_error: 0.8875 - val_loss: 0.6429 - val_mean_absolute_error: 0.8657\n"
     ]
    },
    {
     "data": {
      "text/plain": "<keras.src.callbacks.history.History at 0x26268ba39d0>"
     },
     "execution_count": 25,
     "metadata": {},
     "output_type": "execute_result"
    }
   ],
   "source": [
    "model.fit(X_train_s, y_train0, epochs=5, validation_split=0.15)"
   ],
   "metadata": {
    "collapsed": false,
    "ExecuteTime": {
     "end_time": "2024-05-24T13:42:29.158251300Z",
     "start_time": "2024-05-24T13:42:25.128608800Z"
    }
   }
  },
  {
   "cell_type": "code",
   "execution_count": 26,
   "outputs": [],
   "source": [
    "class MyModel(tf.keras.Model):\n",
    "\n",
    "  def __init__(self):\n",
    "    super().__init__()\n",
    "    self.dense1 = tf.keras.layers.Dense(4, activation=tf.nn.relu)\n",
    "    self.dense2 = tf.keras.layers.Dense(1, activation=tf.nn.softmax)\n",
    "\n",
    "  def call(self, inputs):\n",
    "    x = self.dense1(inputs)\n",
    "    loss_ = tf.reduce_mean(inputs)/2\n",
    "    self.add_loss(loss_)\n",
    "    return self.dense2(x)\n",
    "\n",
    "model = MyModel()"
   ],
   "metadata": {
    "collapsed": false,
    "ExecuteTime": {
     "end_time": "2024-05-24T13:42:49.387366700Z",
     "start_time": "2024-05-24T13:42:49.365118300Z"
    }
   }
  },
  {
   "cell_type": "code",
   "execution_count": 27,
   "outputs": [],
   "source": [
    "model.compile(loss=\"mean_absolute_error\",\n",
    "              optimizer=\"sgd\",\n",
    "              metrics=[\"mean_absolute_error\"])"
   ],
   "metadata": {
    "collapsed": false,
    "ExecuteTime": {
     "end_time": "2024-05-24T13:42:59.673497Z",
     "start_time": "2024-05-24T13:42:59.658161800Z"
    }
   }
  },
  {
   "cell_type": "code",
   "execution_count": 28,
   "outputs": [
    {
     "name": "stdout",
     "output_type": "stream",
     "text": [
      "Epoch 1/5\n",
      "\u001B[1m412/412\u001B[0m \u001B[32m━━━━━━━━━━━━━━━━━━━━\u001B[0m\u001B[37m\u001B[0m \u001B[1m1s\u001B[0m 1ms/step - loss: 1.1744 - mean_absolute_error: 1.1734 - val_loss: 1.1197 - val_mean_absolute_error: 1.1219\n",
      "Epoch 2/5\n",
      "\u001B[1m412/412\u001B[0m \u001B[32m━━━━━━━━━━━━━━━━━━━━\u001B[0m\u001B[37m\u001B[0m \u001B[1m0s\u001B[0m 811us/step - loss: 1.1589 - mean_absolute_error: 1.1606 - val_loss: 1.1197 - val_mean_absolute_error: 1.1219\n",
      "Epoch 3/5\n",
      "\u001B[1m412/412\u001B[0m \u001B[32m━━━━━━━━━━━━━━━━━━━━\u001B[0m\u001B[37m\u001B[0m \u001B[1m0s\u001B[0m 851us/step - loss: 1.1682 - mean_absolute_error: 1.1679 - val_loss: 1.1197 - val_mean_absolute_error: 1.1219\n",
      "Epoch 4/5\n",
      "\u001B[1m412/412\u001B[0m \u001B[32m━━━━━━━━━━━━━━━━━━━━\u001B[0m\u001B[37m\u001B[0m \u001B[1m0s\u001B[0m 948us/step - loss: 1.1669 - mean_absolute_error: 1.1656 - val_loss: 1.1197 - val_mean_absolute_error: 1.1219\n",
      "Epoch 5/5\n",
      "\u001B[1m412/412\u001B[0m \u001B[32m━━━━━━━━━━━━━━━━━━━━\u001B[0m\u001B[37m\u001B[0m \u001B[1m0s\u001B[0m 988us/step - loss: 1.1534 - mean_absolute_error: 1.1525 - val_loss: 1.1197 - val_mean_absolute_error: 1.1219\n"
     ]
    },
    {
     "data": {
      "text/plain": "<keras.src.callbacks.history.History at 0x26269181d20>"
     },
     "execution_count": 28,
     "metadata": {},
     "output_type": "execute_result"
    }
   ],
   "source": [
    "model.fit(X_train_s, y_train0, epochs=5, validation_split=0.15)"
   ],
   "metadata": {
    "collapsed": false,
    "ExecuteTime": {
     "end_time": "2024-05-24T13:43:07.674901800Z",
     "start_time": "2024-05-24T13:43:05.313279800Z"
    }
   }
  }
 ],
 "metadata": {
  "kernelspec": {
   "display_name": "Python 3",
   "language": "python",
   "name": "python3"
  },
  "language_info": {
   "codemirror_mode": {
    "name": "ipython",
    "version": 2
   },
   "file_extension": ".py",
   "mimetype": "text/x-python",
   "name": "python",
   "nbconvert_exporter": "python",
   "pygments_lexer": "ipython2",
   "version": "2.7.6"
  }
 },
 "nbformat": 4,
 "nbformat_minor": 0
}
