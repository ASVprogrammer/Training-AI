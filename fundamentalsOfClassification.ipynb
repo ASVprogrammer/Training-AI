{
 "cells": [
  {
   "cell_type": "code",
   "execution_count": 1,
   "outputs": [],
   "source": [
    "import tensorflow as tf\n",
    "from tensorflow import keras\n",
    "import matplotlib.pyplot as plt\n",
    "import numpy as np"
   ],
   "metadata": {
    "collapsed": false,
    "ExecuteTime": {
     "end_time": "2024-05-24T10:05:04.999381600Z",
     "start_time": "2024-05-24T10:04:57.529367600Z"
    }
   }
  },
  {
   "cell_type": "code",
   "execution_count": 2,
   "outputs": [],
   "source": [
    "fmnist_data = keras.datasets.fashion_mnist"
   ],
   "metadata": {
    "collapsed": false,
    "ExecuteTime": {
     "end_time": "2024-05-24T10:05:07.078330900Z",
     "start_time": "2024-05-24T10:05:07.062043Z"
    }
   }
  },
  {
   "cell_type": "code",
   "execution_count": 3,
   "outputs": [
    {
     "name": "stdout",
     "output_type": "stream",
     "text": [
      "Downloading data from https://storage.googleapis.com/tensorflow/tf-keras-datasets/train-labels-idx1-ubyte.gz\n",
      "\u001B[1m29515/29515\u001B[0m \u001B[32m━━━━━━━━━━━━━━━━━━━━\u001B[0m\u001B[37m\u001B[0m \u001B[1m0s\u001B[0m 5us/step\n",
      "Downloading data from https://storage.googleapis.com/tensorflow/tf-keras-datasets/train-images-idx3-ubyte.gz\n",
      "\u001B[1m26421880/26421880\u001B[0m \u001B[32m━━━━━━━━━━━━━━━━━━━━\u001B[0m\u001B[37m\u001B[0m \u001B[1m195s\u001B[0m 7us/step\n",
      "Downloading data from https://storage.googleapis.com/tensorflow/tf-keras-datasets/t10k-labels-idx1-ubyte.gz\n",
      "\u001B[1m5148/5148\u001B[0m \u001B[32m━━━━━━━━━━━━━━━━━━━━\u001B[0m\u001B[37m\u001B[0m \u001B[1m0s\u001B[0m 5us/step\n",
      "Downloading data from https://storage.googleapis.com/tensorflow/tf-keras-datasets/t10k-images-idx3-ubyte.gz\n",
      "\u001B[1m4422102/4422102\u001B[0m \u001B[32m━━━━━━━━━━━━━━━━━━━━\u001B[0m\u001B[37m\u001B[0m \u001B[1m40s\u001B[0m 9us/step\n"
     ]
    }
   ],
   "source": [
    "(x_train, y_train), (x_test, y_test) = fmnist_data.load_data()"
   ],
   "metadata": {
    "collapsed": false,
    "ExecuteTime": {
     "end_time": "2024-05-24T10:09:16.980537500Z",
     "start_time": "2024-05-24T10:05:18.033666700Z"
    }
   }
  },
  {
   "cell_type": "code",
   "execution_count": 4,
   "outputs": [],
   "source": [
    "x_train, x_test = x_train/255.0, x_test/255.0"
   ],
   "metadata": {
    "collapsed": false,
    "ExecuteTime": {
     "end_time": "2024-05-24T10:11:27.589929700Z",
     "start_time": "2024-05-24T10:11:27.457306900Z"
    }
   }
  },
  {
   "cell_type": "code",
   "execution_count": 5,
   "outputs": [
    {
     "name": "stderr",
     "output_type": "stream",
     "text": [
      "D:\\Learning\\Python\\Tasks\\venv\\lib\\site-packages\\keras\\src\\layers\\reshaping\\flatten.py:37: UserWarning: Do not pass an `input_shape`/`input_dim` argument to a layer. When using Sequential models, prefer using an `Input(shape)` object as the first layer in the model instead.\n",
      "  super().__init__(**kwargs)\n"
     ]
    }
   ],
   "source": [
    "model = keras.models.Sequential([\n",
    "    keras.layers.Flatten(input_shape=[28, 28]),\n",
    "    keras.layers.Dense(100, activation=\"relu\"),\n",
    "    keras.layers.Dense(75, activation=\"relu\"),\n",
    "    keras.layers.Dense(10, activation=\"softmax\")\n",
    "])"
   ],
   "metadata": {
    "collapsed": false,
    "ExecuteTime": {
     "end_time": "2024-05-24T10:11:28.563789400Z",
     "start_time": "2024-05-24T10:11:28.434597500Z"
    }
   }
  },
  {
   "cell_type": "code",
   "execution_count": 6,
   "outputs": [
    {
     "data": {
      "text/plain": "\u001B[1mModel: \"sequential\"\u001B[0m\n",
      "text/html": "<pre style=\"white-space:pre;overflow-x:auto;line-height:normal;font-family:Menlo,'DejaVu Sans Mono',consolas,'Courier New',monospace\"><span style=\"font-weight: bold\">Model: \"sequential\"</span>\n</pre>\n"
     },
     "metadata": {},
     "output_type": "display_data"
    },
    {
     "data": {
      "text/plain": "┏━━━━━━━━━━━━━━━━━━━━━━━━━━━━━━━━━┳━━━━━━━━━━━━━━━━━━━━━━━━┳━━━━━━━━━━━━━━━┓\n┃\u001B[1m \u001B[0m\u001B[1mLayer (type)                   \u001B[0m\u001B[1m \u001B[0m┃\u001B[1m \u001B[0m\u001B[1mOutput Shape          \u001B[0m\u001B[1m \u001B[0m┃\u001B[1m \u001B[0m\u001B[1m      Param #\u001B[0m\u001B[1m \u001B[0m┃\n┡━━━━━━━━━━━━━━━━━━━━━━━━━━━━━━━━━╇━━━━━━━━━━━━━━━━━━━━━━━━╇━━━━━━━━━━━━━━━┩\n│ flatten (\u001B[38;5;33mFlatten\u001B[0m)               │ (\u001B[38;5;45mNone\u001B[0m, \u001B[38;5;34m784\u001B[0m)            │             \u001B[38;5;34m0\u001B[0m │\n├─────────────────────────────────┼────────────────────────┼───────────────┤\n│ dense (\u001B[38;5;33mDense\u001B[0m)                   │ (\u001B[38;5;45mNone\u001B[0m, \u001B[38;5;34m100\u001B[0m)            │        \u001B[38;5;34m78,500\u001B[0m │\n├─────────────────────────────────┼────────────────────────┼───────────────┤\n│ dense_1 (\u001B[38;5;33mDense\u001B[0m)                 │ (\u001B[38;5;45mNone\u001B[0m, \u001B[38;5;34m75\u001B[0m)             │         \u001B[38;5;34m7,575\u001B[0m │\n├─────────────────────────────────┼────────────────────────┼───────────────┤\n│ dense_2 (\u001B[38;5;33mDense\u001B[0m)                 │ (\u001B[38;5;45mNone\u001B[0m, \u001B[38;5;34m10\u001B[0m)             │           \u001B[38;5;34m760\u001B[0m │\n└─────────────────────────────────┴────────────────────────┴───────────────┘\n",
      "text/html": "<pre style=\"white-space:pre;overflow-x:auto;line-height:normal;font-family:Menlo,'DejaVu Sans Mono',consolas,'Courier New',monospace\">┏━━━━━━━━━━━━━━━━━━━━━━━━━━━━━━━━━┳━━━━━━━━━━━━━━━━━━━━━━━━┳━━━━━━━━━━━━━━━┓\n┃<span style=\"font-weight: bold\"> Layer (type)                    </span>┃<span style=\"font-weight: bold\"> Output Shape           </span>┃<span style=\"font-weight: bold\">       Param # </span>┃\n┡━━━━━━━━━━━━━━━━━━━━━━━━━━━━━━━━━╇━━━━━━━━━━━━━━━━━━━━━━━━╇━━━━━━━━━━━━━━━┩\n│ flatten (<span style=\"color: #0087ff; text-decoration-color: #0087ff\">Flatten</span>)               │ (<span style=\"color: #00d7ff; text-decoration-color: #00d7ff\">None</span>, <span style=\"color: #00af00; text-decoration-color: #00af00\">784</span>)            │             <span style=\"color: #00af00; text-decoration-color: #00af00\">0</span> │\n├─────────────────────────────────┼────────────────────────┼───────────────┤\n│ dense (<span style=\"color: #0087ff; text-decoration-color: #0087ff\">Dense</span>)                   │ (<span style=\"color: #00d7ff; text-decoration-color: #00d7ff\">None</span>, <span style=\"color: #00af00; text-decoration-color: #00af00\">100</span>)            │        <span style=\"color: #00af00; text-decoration-color: #00af00\">78,500</span> │\n├─────────────────────────────────┼────────────────────────┼───────────────┤\n│ dense_1 (<span style=\"color: #0087ff; text-decoration-color: #0087ff\">Dense</span>)                 │ (<span style=\"color: #00d7ff; text-decoration-color: #00d7ff\">None</span>, <span style=\"color: #00af00; text-decoration-color: #00af00\">75</span>)             │         <span style=\"color: #00af00; text-decoration-color: #00af00\">7,575</span> │\n├─────────────────────────────────┼────────────────────────┼───────────────┤\n│ dense_2 (<span style=\"color: #0087ff; text-decoration-color: #0087ff\">Dense</span>)                 │ (<span style=\"color: #00d7ff; text-decoration-color: #00d7ff\">None</span>, <span style=\"color: #00af00; text-decoration-color: #00af00\">10</span>)             │           <span style=\"color: #00af00; text-decoration-color: #00af00\">760</span> │\n└─────────────────────────────────┴────────────────────────┴───────────────┘\n</pre>\n"
     },
     "metadata": {},
     "output_type": "display_data"
    },
    {
     "data": {
      "text/plain": "\u001B[1m Total params: \u001B[0m\u001B[38;5;34m86,835\u001B[0m (339.20 KB)\n",
      "text/html": "<pre style=\"white-space:pre;overflow-x:auto;line-height:normal;font-family:Menlo,'DejaVu Sans Mono',consolas,'Courier New',monospace\"><span style=\"font-weight: bold\"> Total params: </span><span style=\"color: #00af00; text-decoration-color: #00af00\">86,835</span> (339.20 KB)\n</pre>\n"
     },
     "metadata": {},
     "output_type": "display_data"
    },
    {
     "data": {
      "text/plain": "\u001B[1m Trainable params: \u001B[0m\u001B[38;5;34m86,835\u001B[0m (339.20 KB)\n",
      "text/html": "<pre style=\"white-space:pre;overflow-x:auto;line-height:normal;font-family:Menlo,'DejaVu Sans Mono',consolas,'Courier New',monospace\"><span style=\"font-weight: bold\"> Trainable params: </span><span style=\"color: #00af00; text-decoration-color: #00af00\">86,835</span> (339.20 KB)\n</pre>\n"
     },
     "metadata": {},
     "output_type": "display_data"
    },
    {
     "data": {
      "text/plain": "\u001B[1m Non-trainable params: \u001B[0m\u001B[38;5;34m0\u001B[0m (0.00 B)\n",
      "text/html": "<pre style=\"white-space:pre;overflow-x:auto;line-height:normal;font-family:Menlo,'DejaVu Sans Mono',consolas,'Courier New',monospace\"><span style=\"font-weight: bold\"> Non-trainable params: </span><span style=\"color: #00af00; text-decoration-color: #00af00\">0</span> (0.00 B)\n</pre>\n"
     },
     "metadata": {},
     "output_type": "display_data"
    }
   ],
   "source": [
    "model.summary()"
   ],
   "metadata": {
    "collapsed": false,
    "ExecuteTime": {
     "end_time": "2024-05-24T10:11:30.505845400Z",
     "start_time": "2024-05-24T10:11:30.463461400Z"
    }
   }
  },
  {
   "cell_type": "code",
   "execution_count": 7,
   "outputs": [],
   "source": [
    "weights, bias = model.layers[1].get_weights()"
   ],
   "metadata": {
    "collapsed": false,
    "ExecuteTime": {
     "end_time": "2024-05-24T10:11:34.377796600Z",
     "start_time": "2024-05-24T10:11:34.356723100Z"
    }
   }
  },
  {
   "cell_type": "code",
   "execution_count": 8,
   "outputs": [
    {
     "data": {
      "text/plain": "array([[-0.03931152, -0.07644507,  0.07158971, ...,  0.03307027,\n        -0.05219571,  0.04317932],\n       [ 0.06792939,  0.06197789,  0.01476463, ...,  0.04682225,\n         0.01901622,  0.00554516],\n       [ 0.0508084 , -0.07178643,  0.0203625 , ..., -0.0372044 ,\n         0.01630287, -0.03401962],\n       ...,\n       [ 0.07513373,  0.01970529, -0.03855773, ...,  0.0699726 ,\n        -0.02672014, -0.0632855 ],\n       [ 0.01343095, -0.03505435,  0.02663569, ..., -0.051937  ,\n         0.05843663, -0.03840664],\n       [ 0.00564332,  0.00138564,  0.04373601, ...,  0.04973006,\n         0.02832221, -0.07071055]], dtype=float32)"
     },
     "execution_count": 8,
     "metadata": {},
     "output_type": "execute_result"
    }
   ],
   "source": [
    "weights"
   ],
   "metadata": {
    "collapsed": false,
    "ExecuteTime": {
     "end_time": "2024-05-24T10:11:37.520366800Z",
     "start_time": "2024-05-24T10:11:37.508362300Z"
    }
   }
  },
  {
   "cell_type": "code",
   "execution_count": 9,
   "outputs": [
    {
     "data": {
      "text/plain": "array([0., 0., 0., 0., 0., 0., 0., 0., 0., 0., 0., 0., 0., 0., 0., 0., 0.,\n       0., 0., 0., 0., 0., 0., 0., 0., 0., 0., 0., 0., 0., 0., 0., 0., 0.,\n       0., 0., 0., 0., 0., 0., 0., 0., 0., 0., 0., 0., 0., 0., 0., 0., 0.,\n       0., 0., 0., 0., 0., 0., 0., 0., 0., 0., 0., 0., 0., 0., 0., 0., 0.,\n       0., 0., 0., 0., 0., 0., 0., 0., 0., 0., 0., 0., 0., 0., 0., 0., 0.,\n       0., 0., 0., 0., 0., 0., 0., 0., 0., 0., 0., 0., 0., 0., 0.],\n      dtype=float32)"
     },
     "execution_count": 9,
     "metadata": {},
     "output_type": "execute_result"
    }
   ],
   "source": [
    "bias"
   ],
   "metadata": {
    "collapsed": false,
    "ExecuteTime": {
     "end_time": "2024-05-24T10:11:39.072871100Z",
     "start_time": "2024-05-24T10:11:39.054870500Z"
    }
   }
  },
  {
   "cell_type": "code",
   "execution_count": 10,
   "outputs": [],
   "source": [
    "model.compile(loss=\"sparse_categorical_crossentropy\",\n",
    "              optimizer=\"sgd\",\n",
    "              metrics=[\"accuracy\"])"
   ],
   "metadata": {
    "collapsed": false,
    "ExecuteTime": {
     "end_time": "2024-05-24T10:11:40.216873800Z",
     "start_time": "2024-05-24T10:11:40.180740500Z"
    }
   }
  },
  {
   "cell_type": "code",
   "execution_count": 11,
   "outputs": [
    {
     "name": "stdout",
     "output_type": "stream",
     "text": [
      "Epoch 1/50\n",
      "\u001B[1m1594/1594\u001B[0m \u001B[32m━━━━━━━━━━━━━━━━━━━━\u001B[0m\u001B[37m\u001B[0m \u001B[1m2s\u001B[0m 1ms/step - accuracy: 0.6568 - loss: 1.0671 - val_accuracy: 0.7969 - val_loss: 0.5703\n",
      "Epoch 2/50\n",
      "\u001B[1m1594/1594\u001B[0m \u001B[32m━━━━━━━━━━━━━━━━━━━━\u001B[0m\u001B[37m\u001B[0m \u001B[1m2s\u001B[0m 944us/step - accuracy: 0.8162 - loss: 0.5258 - val_accuracy: 0.8234 - val_loss: 0.4903\n",
      "Epoch 3/50\n",
      "\u001B[1m1594/1594\u001B[0m \u001B[32m━━━━━━━━━━━━━━━━━━━━\u001B[0m\u001B[37m\u001B[0m \u001B[1m2s\u001B[0m 939us/step - accuracy: 0.8358 - loss: 0.4716 - val_accuracy: 0.8363 - val_loss: 0.4535\n",
      "Epoch 4/50\n",
      "\u001B[1m1594/1594\u001B[0m \u001B[32m━━━━━━━━━━━━━━━━━━━━\u001B[0m\u001B[37m\u001B[0m \u001B[1m1s\u001B[0m 924us/step - accuracy: 0.8476 - loss: 0.4362 - val_accuracy: 0.8428 - val_loss: 0.4489\n",
      "Epoch 5/50\n",
      "\u001B[1m1594/1594\u001B[0m \u001B[32m━━━━━━━━━━━━━━━━━━━━\u001B[0m\u001B[37m\u001B[0m \u001B[1m2s\u001B[0m 927us/step - accuracy: 0.8557 - loss: 0.4129 - val_accuracy: 0.8518 - val_loss: 0.4211\n",
      "Epoch 6/50\n",
      "\u001B[1m1594/1594\u001B[0m \u001B[32m━━━━━━━━━━━━━━━━━━━━\u001B[0m\u001B[37m\u001B[0m \u001B[1m1s\u001B[0m 894us/step - accuracy: 0.8578 - loss: 0.4023 - val_accuracy: 0.8446 - val_loss: 0.4348\n",
      "Epoch 7/50\n",
      "\u001B[1m1594/1594\u001B[0m \u001B[32m━━━━━━━━━━━━━━━━━━━━\u001B[0m\u001B[37m\u001B[0m \u001B[1m2s\u001B[0m 951us/step - accuracy: 0.8643 - loss: 0.3853 - val_accuracy: 0.8620 - val_loss: 0.3898\n",
      "Epoch 8/50\n",
      "\u001B[1m1594/1594\u001B[0m \u001B[32m━━━━━━━━━━━━━━━━━━━━\u001B[0m\u001B[37m\u001B[0m \u001B[1m2s\u001B[0m 929us/step - accuracy: 0.8680 - loss: 0.3732 - val_accuracy: 0.8578 - val_loss: 0.3994\n",
      "Epoch 9/50\n",
      "\u001B[1m1594/1594\u001B[0m \u001B[32m━━━━━━━━━━━━━━━━━━━━\u001B[0m\u001B[37m\u001B[0m \u001B[1m2s\u001B[0m 953us/step - accuracy: 0.8710 - loss: 0.3617 - val_accuracy: 0.8638 - val_loss: 0.3853\n",
      "Epoch 10/50\n",
      "\u001B[1m1594/1594\u001B[0m \u001B[32m━━━━━━━━━━━━━━━━━━━━\u001B[0m\u001B[37m\u001B[0m \u001B[1m1s\u001B[0m 896us/step - accuracy: 0.8773 - loss: 0.3486 - val_accuracy: 0.8634 - val_loss: 0.3745\n",
      "Epoch 11/50\n",
      "\u001B[1m1594/1594\u001B[0m \u001B[32m━━━━━━━━━━━━━━━━━━━━\u001B[0m\u001B[37m\u001B[0m \u001B[1m1s\u001B[0m 866us/step - accuracy: 0.8768 - loss: 0.3472 - val_accuracy: 0.8684 - val_loss: 0.3728\n",
      "Epoch 12/50\n",
      "\u001B[1m1594/1594\u001B[0m \u001B[32m━━━━━━━━━━━━━━━━━━━━\u001B[0m\u001B[37m\u001B[0m \u001B[1m2s\u001B[0m 944us/step - accuracy: 0.8781 - loss: 0.3388 - val_accuracy: 0.8653 - val_loss: 0.3747\n",
      "Epoch 13/50\n",
      "\u001B[1m1594/1594\u001B[0m \u001B[32m━━━━━━━━━━━━━━━━━━━━\u001B[0m\u001B[37m\u001B[0m \u001B[1m1s\u001B[0m 899us/step - accuracy: 0.8811 - loss: 0.3353 - val_accuracy: 0.8732 - val_loss: 0.3572\n",
      "Epoch 14/50\n",
      "\u001B[1m1594/1594\u001B[0m \u001B[32m━━━━━━━━━━━━━━━━━━━━\u001B[0m\u001B[37m\u001B[0m \u001B[1m1s\u001B[0m 881us/step - accuracy: 0.8809 - loss: 0.3283 - val_accuracy: 0.8724 - val_loss: 0.3592\n",
      "Epoch 15/50\n",
      "\u001B[1m1594/1594\u001B[0m \u001B[32m━━━━━━━━━━━━━━━━━━━━\u001B[0m\u001B[37m\u001B[0m \u001B[1m1s\u001B[0m 902us/step - accuracy: 0.8843 - loss: 0.3236 - val_accuracy: 0.8701 - val_loss: 0.3611\n",
      "Epoch 16/50\n",
      "\u001B[1m1594/1594\u001B[0m \u001B[32m━━━━━━━━━━━━━━━━━━━━\u001B[0m\u001B[37m\u001B[0m \u001B[1m2s\u001B[0m 930us/step - accuracy: 0.8867 - loss: 0.3162 - val_accuracy: 0.8688 - val_loss: 0.3648\n",
      "Epoch 17/50\n",
      "\u001B[1m1594/1594\u001B[0m \u001B[32m━━━━━━━━━━━━━━━━━━━━\u001B[0m\u001B[37m\u001B[0m \u001B[1m1s\u001B[0m 899us/step - accuracy: 0.8901 - loss: 0.3048 - val_accuracy: 0.8524 - val_loss: 0.4014\n",
      "Epoch 18/50\n",
      "\u001B[1m1594/1594\u001B[0m \u001B[32m━━━━━━━━━━━━━━━━━━━━\u001B[0m\u001B[37m\u001B[0m \u001B[1m1s\u001B[0m 870us/step - accuracy: 0.8916 - loss: 0.3027 - val_accuracy: 0.8777 - val_loss: 0.3432\n",
      "Epoch 19/50\n",
      "\u001B[1m1594/1594\u001B[0m \u001B[32m━━━━━━━━━━━━━━━━━━━━\u001B[0m\u001B[37m\u001B[0m \u001B[1m1s\u001B[0m 865us/step - accuracy: 0.8916 - loss: 0.2968 - val_accuracy: 0.8768 - val_loss: 0.3450\n",
      "Epoch 20/50\n",
      "\u001B[1m1594/1594\u001B[0m \u001B[32m━━━━━━━━━━━━━━━━━━━━\u001B[0m\u001B[37m\u001B[0m \u001B[1m2s\u001B[0m 966us/step - accuracy: 0.8936 - loss: 0.2937 - val_accuracy: 0.8797 - val_loss: 0.3379\n",
      "Epoch 21/50\n",
      "\u001B[1m1594/1594\u001B[0m \u001B[32m━━━━━━━━━━━━━━━━━━━━\u001B[0m\u001B[37m\u001B[0m \u001B[1m1s\u001B[0m 866us/step - accuracy: 0.8952 - loss: 0.2896 - val_accuracy: 0.8753 - val_loss: 0.3509\n",
      "Epoch 22/50\n",
      "\u001B[1m1594/1594\u001B[0m \u001B[32m━━━━━━━━━━━━━━━━━━━━\u001B[0m\u001B[37m\u001B[0m \u001B[1m1s\u001B[0m 863us/step - accuracy: 0.8947 - loss: 0.2845 - val_accuracy: 0.8788 - val_loss: 0.3387\n",
      "Epoch 23/50\n",
      "\u001B[1m1594/1594\u001B[0m \u001B[32m━━━━━━━━━━━━━━━━━━━━\u001B[0m\u001B[37m\u001B[0m \u001B[1m1s\u001B[0m 883us/step - accuracy: 0.8951 - loss: 0.2877 - val_accuracy: 0.8798 - val_loss: 0.3326\n",
      "Epoch 24/50\n",
      "\u001B[1m1594/1594\u001B[0m \u001B[32m━━━━━━━━━━━━━━━━━━━━\u001B[0m\u001B[37m\u001B[0m \u001B[1m1s\u001B[0m 871us/step - accuracy: 0.8999 - loss: 0.2797 - val_accuracy: 0.8792 - val_loss: 0.3410\n",
      "Epoch 25/50\n",
      "\u001B[1m1594/1594\u001B[0m \u001B[32m━━━━━━━━━━━━━━━━━━━━\u001B[0m\u001B[37m\u001B[0m \u001B[1m1s\u001B[0m 856us/step - accuracy: 0.9011 - loss: 0.2730 - val_accuracy: 0.8794 - val_loss: 0.3341\n",
      "Epoch 26/50\n",
      "\u001B[1m1594/1594\u001B[0m \u001B[32m━━━━━━━━━━━━━━━━━━━━\u001B[0m\u001B[37m\u001B[0m \u001B[1m1s\u001B[0m 867us/step - accuracy: 0.9029 - loss: 0.2672 - val_accuracy: 0.8788 - val_loss: 0.3375\n",
      "Epoch 27/50\n",
      "\u001B[1m1594/1594\u001B[0m \u001B[32m━━━━━━━━━━━━━━━━━━━━\u001B[0m\u001B[37m\u001B[0m \u001B[1m1s\u001B[0m 853us/step - accuracy: 0.9028 - loss: 0.2670 - val_accuracy: 0.8758 - val_loss: 0.3507\n",
      "Epoch 28/50\n",
      "\u001B[1m1594/1594\u001B[0m \u001B[32m━━━━━━━━━━━━━━━━━━━━\u001B[0m\u001B[37m\u001B[0m \u001B[1m1s\u001B[0m 861us/step - accuracy: 0.9041 - loss: 0.2638 - val_accuracy: 0.8724 - val_loss: 0.3523\n",
      "Epoch 29/50\n",
      "\u001B[1m1594/1594\u001B[0m \u001B[32m━━━━━━━━━━━━━━━━━━━━\u001B[0m\u001B[37m\u001B[0m \u001B[1m1s\u001B[0m 863us/step - accuracy: 0.9071 - loss: 0.2568 - val_accuracy: 0.8809 - val_loss: 0.3383\n",
      "Epoch 30/50\n",
      "\u001B[1m1594/1594\u001B[0m \u001B[32m━━━━━━━━━━━━━━━━━━━━\u001B[0m\u001B[37m\u001B[0m \u001B[1m1s\u001B[0m 861us/step - accuracy: 0.9078 - loss: 0.2536 - val_accuracy: 0.8829 - val_loss: 0.3272\n",
      "Epoch 31/50\n",
      "\u001B[1m1594/1594\u001B[0m \u001B[32m━━━━━━━━━━━━━━━━━━━━\u001B[0m\u001B[37m\u001B[0m \u001B[1m1s\u001B[0m 877us/step - accuracy: 0.9087 - loss: 0.2527 - val_accuracy: 0.8831 - val_loss: 0.3223\n",
      "Epoch 32/50\n",
      "\u001B[1m1594/1594\u001B[0m \u001B[32m━━━━━━━━━━━━━━━━━━━━\u001B[0m\u001B[37m\u001B[0m \u001B[1m1s\u001B[0m 861us/step - accuracy: 0.9096 - loss: 0.2487 - val_accuracy: 0.8820 - val_loss: 0.3234\n",
      "Epoch 33/50\n",
      "\u001B[1m1594/1594\u001B[0m \u001B[32m━━━━━━━━━━━━━━━━━━━━\u001B[0m\u001B[37m\u001B[0m \u001B[1m1s\u001B[0m 853us/step - accuracy: 0.9112 - loss: 0.2492 - val_accuracy: 0.8749 - val_loss: 0.3544\n",
      "Epoch 34/50\n",
      "\u001B[1m1594/1594\u001B[0m \u001B[32m━━━━━━━━━━━━━━━━━━━━\u001B[0m\u001B[37m\u001B[0m \u001B[1m1s\u001B[0m 867us/step - accuracy: 0.9096 - loss: 0.2472 - val_accuracy: 0.8827 - val_loss: 0.3375\n",
      "Epoch 35/50\n",
      "\u001B[1m1594/1594\u001B[0m \u001B[32m━━━━━━━━━━━━━━━━━━━━\u001B[0m\u001B[37m\u001B[0m \u001B[1m1s\u001B[0m 887us/step - accuracy: 0.9131 - loss: 0.2426 - val_accuracy: 0.8846 - val_loss: 0.3280\n",
      "Epoch 36/50\n",
      "\u001B[1m1594/1594\u001B[0m \u001B[32m━━━━━━━━━━━━━━━━━━━━\u001B[0m\u001B[37m\u001B[0m \u001B[1m1s\u001B[0m 911us/step - accuracy: 0.9131 - loss: 0.2373 - val_accuracy: 0.8840 - val_loss: 0.3230\n",
      "Epoch 37/50\n",
      "\u001B[1m1594/1594\u001B[0m \u001B[32m━━━━━━━━━━━━━━━━━━━━\u001B[0m\u001B[37m\u001B[0m \u001B[1m1s\u001B[0m 864us/step - accuracy: 0.9170 - loss: 0.2300 - val_accuracy: 0.8813 - val_loss: 0.3346\n",
      "Epoch 38/50\n",
      "\u001B[1m1594/1594\u001B[0m \u001B[32m━━━━━━━━━━━━━━━━━━━━\u001B[0m\u001B[37m\u001B[0m \u001B[1m1s\u001B[0m 859us/step - accuracy: 0.9162 - loss: 0.2320 - val_accuracy: 0.8732 - val_loss: 0.3619\n",
      "Epoch 39/50\n",
      "\u001B[1m1594/1594\u001B[0m \u001B[32m━━━━━━━━━━━━━━━━━━━━\u001B[0m\u001B[37m\u001B[0m \u001B[1m1s\u001B[0m 860us/step - accuracy: 0.9189 - loss: 0.2286 - val_accuracy: 0.8711 - val_loss: 0.3581\n",
      "Epoch 40/50\n",
      "\u001B[1m1594/1594\u001B[0m \u001B[32m━━━━━━━━━━━━━━━━━━━━\u001B[0m\u001B[37m\u001B[0m \u001B[1m1s\u001B[0m 861us/step - accuracy: 0.9197 - loss: 0.2274 - val_accuracy: 0.8851 - val_loss: 0.3250\n",
      "Epoch 41/50\n",
      "\u001B[1m1594/1594\u001B[0m \u001B[32m━━━━━━━━━━━━━━━━━━━━\u001B[0m\u001B[37m\u001B[0m \u001B[1m1s\u001B[0m 886us/step - accuracy: 0.9182 - loss: 0.2290 - val_accuracy: 0.8842 - val_loss: 0.3296\n",
      "Epoch 42/50\n",
      "\u001B[1m1594/1594\u001B[0m \u001B[32m━━━━━━━━━━━━━━━━━━━━\u001B[0m\u001B[37m\u001B[0m \u001B[1m1s\u001B[0m 903us/step - accuracy: 0.9204 - loss: 0.2223 - val_accuracy: 0.8859 - val_loss: 0.3228\n",
      "Epoch 43/50\n",
      "\u001B[1m1594/1594\u001B[0m \u001B[32m━━━━━━━━━━━━━━━━━━━━\u001B[0m\u001B[37m\u001B[0m \u001B[1m1s\u001B[0m 878us/step - accuracy: 0.9206 - loss: 0.2202 - val_accuracy: 0.8836 - val_loss: 0.3251\n",
      "Epoch 44/50\n",
      "\u001B[1m1594/1594\u001B[0m \u001B[32m━━━━━━━━━━━━━━━━━━━━\u001B[0m\u001B[37m\u001B[0m \u001B[1m1s\u001B[0m 879us/step - accuracy: 0.9241 - loss: 0.2118 - val_accuracy: 0.8804 - val_loss: 0.3342\n",
      "Epoch 45/50\n",
      "\u001B[1m1594/1594\u001B[0m \u001B[32m━━━━━━━━━━━━━━━━━━━━\u001B[0m\u001B[37m\u001B[0m \u001B[1m1s\u001B[0m 865us/step - accuracy: 0.9208 - loss: 0.2203 - val_accuracy: 0.8840 - val_loss: 0.3292\n",
      "Epoch 46/50\n",
      "\u001B[1m1594/1594\u001B[0m \u001B[32m━━━━━━━━━━━━━━━━━━━━\u001B[0m\u001B[37m\u001B[0m \u001B[1m1s\u001B[0m 871us/step - accuracy: 0.9239 - loss: 0.2119 - val_accuracy: 0.8856 - val_loss: 0.3246\n",
      "Epoch 47/50\n",
      "\u001B[1m1594/1594\u001B[0m \u001B[32m━━━━━━━━━━━━━━━━━━━━\u001B[0m\u001B[37m\u001B[0m \u001B[1m1s\u001B[0m 859us/step - accuracy: 0.9247 - loss: 0.2113 - val_accuracy: 0.8814 - val_loss: 0.3395\n",
      "Epoch 48/50\n",
      "\u001B[1m1594/1594\u001B[0m \u001B[32m━━━━━━━━━━━━━━━━━━━━\u001B[0m\u001B[37m\u001B[0m \u001B[1m1s\u001B[0m 871us/step - accuracy: 0.9283 - loss: 0.2065 - val_accuracy: 0.8806 - val_loss: 0.3372\n",
      "Epoch 49/50\n",
      "\u001B[1m1594/1594\u001B[0m \u001B[32m━━━━━━━━━━━━━━━━━━━━\u001B[0m\u001B[37m\u001B[0m \u001B[1m1s\u001B[0m 874us/step - accuracy: 0.9249 - loss: 0.2105 - val_accuracy: 0.8806 - val_loss: 0.3382\n",
      "Epoch 50/50\n",
      "\u001B[1m1594/1594\u001B[0m \u001B[32m━━━━━━━━━━━━━━━━━━━━\u001B[0m\u001B[37m\u001B[0m \u001B[1m1s\u001B[0m 921us/step - accuracy: 0.9266 - loss: 0.1999 - val_accuracy: 0.8814 - val_loss: 0.3398\n"
     ]
    }
   ],
   "source": [
    "history = model.fit(x_train, y_train, epochs=50, validation_split=0.15)"
   ],
   "metadata": {
    "collapsed": false,
    "ExecuteTime": {
     "end_time": "2024-05-24T10:13:01.728547100Z",
     "start_time": "2024-05-24T10:11:48.985017700Z"
    }
   }
  },
  {
   "cell_type": "code",
   "execution_count": 12,
   "outputs": [
    {
     "name": "stdout",
     "output_type": "stream",
     "text": [
      "{'accuracy': [0.7444902062416077, 0.8201568722724915, 0.8389803767204285, 0.8466274738311768, 0.8546274304389954, 0.8590587973594666, 0.8646470308303833, 0.8673921823501587, 0.8712549209594727, 0.8730587959289551, 0.8758431077003479, 0.8779019713401794, 0.8812549114227295, 0.8830784559249878, 0.8856470584869385, 0.8872156739234924, 0.8884902000427246, 0.8909608125686646, 0.8922156691551208, 0.8936078548431396, 0.8949215412139893, 0.8954901695251465, 0.8972548842430115, 0.8994705677032471, 0.8998235464096069, 0.9015490412712097, 0.9031176567077637, 0.9048431515693665, 0.9062548875808716, 0.9075098037719727, 0.9081764817237854, 0.9089411497116089, 0.9118039011955261, 0.9100784063339233, 0.9123725295066833, 0.9138627648353577, 0.9148039221763611, 0.9159411787986755, 0.9174509644508362, 0.9187647104263306, 0.9184314012527466, 0.9197843074798584, 0.9203725457191467, 0.9210784435272217, 0.9213725328445435, 0.9229411482810974, 0.9249215722084045, 0.9260784387588501, 0.9258038997650146, 0.9260392189025879], 'loss': [0.7740658521652222, 0.5120868682861328, 0.4621640741825104, 0.434239000082016, 0.41399019956588745, 0.3995465338230133, 0.38613438606262207, 0.3731463551521301, 0.36427098512649536, 0.35612255334854126, 0.3478546142578125, 0.3406711220741272, 0.3327358663082123, 0.3258149027824402, 0.3203619718551636, 0.3152979016304016, 0.3095373511314392, 0.304445743560791, 0.300019234418869, 0.29547134041786194, 0.2906302213668823, 0.2862733006477356, 0.2825586199760437, 0.27877798676490784, 0.2750126123428345, 0.27159175276756287, 0.2673095464706421, 0.2637062072753906, 0.26072341203689575, 0.2567920684814453, 0.25426220893859863, 0.2509625554084778, 0.24838608503341675, 0.24536190927028656, 0.24272330105304718, 0.23940372467041016, 0.23585689067840576, 0.23404890298843384, 0.23094019293785095, 0.22808107733726501, 0.22587111592292786, 0.22394810616970062, 0.22101128101348877, 0.2190588116645813, 0.2164551019668579, 0.21462568640708923, 0.21144162118434906, 0.20905748009681702, 0.206930473446846, 0.2042783796787262], 'val_accuracy': [0.7968888878822327, 0.8234444260597229, 0.8363333344459534, 0.8427777886390686, 0.8517777919769287, 0.8445555567741394, 0.8619999885559082, 0.8577777743339539, 0.863777756690979, 0.863444447517395, 0.8684444427490234, 0.8653333187103271, 0.8732222318649292, 0.8724444508552551, 0.8701111078262329, 0.8687777519226074, 0.8524444699287415, 0.8776666522026062, 0.8767777681350708, 0.8796666860580444, 0.875333309173584, 0.878777801990509, 0.8797777891159058, 0.8792222142219543, 0.879444420337677, 0.878777801990509, 0.8757777810096741, 0.8724444508552551, 0.8808888792991638, 0.882888913154602, 0.8831111192703247, 0.8820000290870667, 0.8748888969421387, 0.8826666474342346, 0.8845555782318115, 0.8840000033378601, 0.8813333511352539, 0.8732222318649292, 0.8711110949516296, 0.8851110935211182, 0.8842222094535828, 0.8858888745307922, 0.88355553150177, 0.8804444670677185, 0.8840000033378601, 0.8855555653572083, 0.8814444541931152, 0.8805555701255798, 0.8805555701255798, 0.8814444541931152], 'val_loss': [0.5702841281890869, 0.49032682180404663, 0.4534575641155243, 0.44889307022094727, 0.4210728704929352, 0.43484658002853394, 0.38976848125457764, 0.39942577481269836, 0.38530391454696655, 0.3745078444480896, 0.37280675768852234, 0.3746783435344696, 0.35715675354003906, 0.35916879773139954, 0.3611193299293518, 0.36481091380119324, 0.4013555645942688, 0.3431902229785919, 0.3449697494506836, 0.337862104177475, 0.3509081304073334, 0.3386704921722412, 0.3325691223144531, 0.3410038650035858, 0.3341064453125, 0.33746615052223206, 0.35066649317741394, 0.35225382447242737, 0.3383333086967468, 0.32720354199409485, 0.3223026990890503, 0.32344311475753784, 0.35435935854911804, 0.3375280201435089, 0.3279864192008972, 0.3230086863040924, 0.33463165163993835, 0.36193546652793884, 0.3581300675868988, 0.32500043511390686, 0.32962566614151, 0.32284101843833923, 0.32509151101112366, 0.33416125178337097, 0.3292340040206909, 0.3245903551578522, 0.33954280614852905, 0.33722132444381714, 0.33820897340774536, 0.3397946357727051]}\n"
     ]
    }
   ],
   "source": [
    "print(history.history)"
   ],
   "metadata": {
    "collapsed": false,
    "ExecuteTime": {
     "end_time": "2024-05-24T10:14:48.969968300Z",
     "start_time": "2024-05-24T10:14:48.925038100Z"
    }
   }
  },
  {
   "cell_type": "code",
   "execution_count": 13,
   "outputs": [
    {
     "data": {
      "text/plain": "<matplotlib.legend.Legend at 0x29333857010>"
     },
     "execution_count": 13,
     "metadata": {},
     "output_type": "execute_result"
    },
    {
     "data": {
      "text/plain": "<Figure size 1200x500 with 1 Axes>",
      "image/png": "[encoded data removed]"
     },
     "metadata": {},
     "output_type": "display_data"
    }
   ],
   "source": [
    "fig, ax = plt.subplots(figsize=(12, 5))\n",
    "ax.plot(history.history[\"loss\"], label=\"train loss\")\n",
    "ax.plot(history.history[\"accuracy\"], label=\"train accuracy\")\n",
    "ax.plot(history.history[\"val_loss\"], label=\"validation loss\")\n",
    "ax.plot(history.history[\"val_accuracy\"], label=\"validation accuracy\")\n",
    "ax.legend()"
   ],
   "metadata": {
    "collapsed": false,
    "ExecuteTime": {
     "end_time": "2024-05-24T10:14:50.387672400Z",
     "start_time": "2024-05-24T10:14:50.144173100Z"
    }
   }
  },
  {
   "cell_type": "code",
   "execution_count": null,
   "outputs": [],
   "source": [],
   "metadata": {
    "collapsed": false
   }
  }
 ],
 "metadata": {
  "kernelspec": {
   "display_name": "Python 3",
   "language": "python",
   "name": "python3"
  },
  "language_info": {
   "codemirror_mode": {
    "name": "ipython",
    "version": 2
   },
   "file_extension": ".py",
   "mimetype": "text/x-python",
   "name": "python",
   "nbconvert_exporter": "python",
   "pygments_lexer": "ipython2",
   "version": "2.7.6"
  }
 },
 "nbformat": 4,
 "nbformat_minor": 0
}
